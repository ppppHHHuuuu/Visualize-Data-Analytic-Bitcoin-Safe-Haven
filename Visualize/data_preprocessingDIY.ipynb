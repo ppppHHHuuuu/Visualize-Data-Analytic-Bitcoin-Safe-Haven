{
 "cells": [
  {
   "cell_type": "code",
   "id": "initial_id",
   "metadata": {
    "collapsed": true,
    "ExecuteTime": {
     "end_time": "2024-05-17T09:04:14.843754Z",
     "start_time": "2024-05-17T09:04:14.802001Z"
    }
   },
   "source": [
    "import re\n",
    "\n",
    "import numpy as np\n",
    "import pandas as pd\n",
    "from nltk.corpus import stopwords\n",
    "from nltk import word_tokenize\n",
    "cList = {\n",
    "  \"ain't\": \"am not\",\"aren't\": \"are not\",\"can't\": \"cannot\",\"can't've\": \"cannot have\",\"'cause\": \"because\",  \"could've\": \"could have\",\"couldn't\": \"could not\",\"couldn't've\": \"could not have\",\"didn't\": \"did not\",\"doesn't\": \"does not\",\"don't\": \"do not\",\"hadn't\": \"had not\",\"hadn't've\": \"had not have\",\"hasn't\": \"has not\",\n",
    "  \"haven't\": \"have not\",\"he'd\": \"he would\",\"he'd've\": \"he would have\",\"he'll\": \"he will\",\"he'll've\": \"he will have\",\"he's\": \"he is\",\n",
    "  \"how'd\": \"how did\",\"how'd'y\": \"how do you\",\"how'll\": \"how will\",\"how's\": \"how is\",\"I'd\": \"I would\",\"I'd've\": \"I would have\",\"I'll\": \"I will\",\"I'll've\": \"I will have\",\"I'm\": \"I am\",\"I've\": \"I have\",\n",
    "  \"isn't\": \"is not\",\"it'd\": \"it had\",\"it'd've\": \"it would have\",\"it'll\": \"it will\", \"it'll've\": \"it will have\",\"it's\": \"it is\",\"let's\": \"let us\",\"ma'am\": \"madam\",\"mayn't\": \"may not\",\n",
    "  \"might've\": \"might have\",\"mightn't\": \"might not\",\"mightn't've\": \"might not have\",\"must've\": \"must have\",\"mustn't\": \"must not\",\"mustn't've\": \"must not have\",\"needn't\": \"need not\",\"needn't've\": \"need not have\",\"o'clock\": \"of the clock\",\"oughtn't\": \"ought not\",\"oughtn't've\": \"ought not have\",\"shan't\": \"shall not\",\"sha'n't\": \"shall not\",\n",
    "  \"shan't've\": \"shall not have\",\"she'd\": \"she would\",\"she'd've\": \"she would have\",\"she'll\": \"she will\",\"she'll've\": \"she will have\",\"she's\": \"she is\",\n",
    "  \"should've\": \"should have\",\"shouldn't\": \"should not\",\"shouldn't've\": \"should not have\",\"so've\": \"so have\",\"so's\": \"so is\",\"that'd\": \"that would\",\"that'd've\": \"that would have\",\"that's\": \"that is\",\"there'd\": \"there had\",\"there'd've\": \"there would have\",\"there's\": \"there is\",\"they'd\": \"they would\",\"they'd've\": \"they would have\",\"they'll\": \"they will\",\"they'll've\": \"they will have\",\"they're\": \"they are\",\"they've\": \"they have\",\"to've\": \"to have\",\"wasn't\": \"was not\",\"we'd\": \"we had\",\n",
    "  \"we'd've\": \"we would have\",\"we'll\": \"we will\",\"we'll've\": \"we will have\",\"we're\": \"we are\",\"we've\": \"we have\",\n",
    "  \"weren't\": \"were not\",\"what'll\": \"what will\",\"what'll've\": \"what will have\",\n",
    "  \"what're\": \"what are\",\"what's\": \"what is\",\"what've\": \"what have\",\"when's\": \"when is\",\"when've\": \"when have\",\n",
    "  \"where'd\": \"where did\",\"where's\": \"where is\",\"where've\": \"where have\",\"who'll\": \"who will\",\"who'll've\": \"who will have\",\"who's\": \"who is\",\"who've\": \"who have\",\"why's\": \"why is\",\n",
    "  \"why've\": \"why have\",\"will've\": \"will have\",\"won't\": \"will not\",\"won't've\": \"will not have\",\"would've\": \"would have\",\"wouldn't\": \"would not\",\n",
    "  \"wouldn't've\": \"would not have\",\"y'all\": \"you all\",\"y'alls\": \"you alls\",\"y'all'd\": \"you all would\",\n",
    "  \"y'all'd've\": \"you all would have\",\"y'all're\": \"you all are\",\"y'all've\": \"you all have\",\"you'd\": \"you had\",\"you'd've\": \"you would have\",\"you'll\": \"you you will\",\"you'll've\": \"you you will have\",\"you're\": \"you are\",  \"you've\": \"you have\"\n",
    "   }\n",
    "\n",
    "c_re = re.compile('(%s)' % '|'.join(cList.keys()))\n",
    "\n",
    "def expandContractions(text, c_re=c_re):\n",
    "    def replace(match):\n",
    "        return cList[match.group(0)]\n",
    "    return c_re.sub(replace, text)\n",
    "def removeStopWords(x):\n",
    "    stop_words = set(stopwords.words(\"english\"))\n",
    "    word_tokens = word_tokenize(x)\n",
    "    \n",
    "    x = [w for w in word_tokens if not w in stop_words]\n",
    "    return ' '.join(x)\n",
    "def removeHTML(x):\n",
    "    html=re.compile(r'<.*?>')\n",
    "    return html.sub(r'',x)\n",
    "def dataPreprocessing(x):\n",
    "    # x = x.lower()\n",
    "    x = removeHTML(x)\n",
    "    x = re.sub(\"@\", '',x)\n",
    "    x = re.sub(\"'\\d+\", '',x)\n",
    "    x = re.sub(\"\\d+\", '',x)\n",
    "    x = re.sub(\"http\\w+\", '',x)\n",
    "    x = re.sub(r\"\\s+\", \" \", x)\n",
    "#     x = expandContractions(x)\n",
    "    x = re.sub(r\"\\.+\", \".\", x)\n",
    "    x = re.sub(r\"\\,+\", \",\", x)\n",
    "    # x = x.strip()\n",
    "    return x"
   ],
   "outputs": [],
   "execution_count": 40
  },
  {
   "metadata": {
    "ExecuteTime": {
     "end_time": "2024-05-17T09:02:06.594927Z",
     "start_time": "2024-05-17T09:02:06.579390Z"
    }
   },
   "cell_type": "code",
   "source": [
    "# Load English stopwords\n",
    "stop_words = stopwords.words('english')\n"
   ],
   "id": "86cf93ecc0eb34bf",
   "outputs": [],
   "execution_count": 35
  },
  {
   "metadata": {
    "ExecuteTime": {
     "end_time": "2024-05-17T08:57:06.368865Z",
     "start_time": "2024-05-17T08:57:06.347808Z"
    }
   },
   "cell_type": "code",
   "source": [
    "import string\n",
    "def remove_punctuation(text):\n",
    "    \"\"\"\n",
    "    Remove all punctuation from the input text.\n",
    "    \n",
    "    Args:\n",
    "    - text (str): The input text.\n",
    "    \n",
    "    Returns:\n",
    "    - str: The text with punctuation removed.\n",
    "    \"\"\"\n",
    "    # 使用 string.punctuation 中定义的标点符号集合来去除文本中的标点符号\n",
    "    translator = str.maketrans('', '', string.punctuation)\n",
    "    return text.translate(translator)\n",
    "\n",
    "# 测试函数"
   ],
   "id": "ed08103ededf6bd6",
   "outputs": [],
   "execution_count": 26
  },
  {
   "metadata": {
    "ExecuteTime": {
     "end_time": "2024-05-17T09:04:17.672315Z",
     "start_time": "2024-05-17T09:04:17.642542Z"
    }
   },
   "cell_type": "code",
   "source": [
    "tweets_bitcoin = pd.read_csv('../dataset/Tweet/TweetsElonMuskBitcoinFiltered.csv')\n",
    "\n",
    "\n",
    "tweets_bitcoin['tweet'] = tweets_bitcoin['tweet'].apply(dataPreprocessing)\n",
    "tweets_bitcoin['tweet'] = tweets_bitcoin['tweet'].apply(remove_punctuation)\n",
    "tweets_bitcoin['tweet'] = tweets_bitcoin['tweet'].apply(removeStopWords)\n",
    "\n",
    "for tweet in tweets_bitcoin[\"tweet\"]:\n",
    "    print (tweet)\n",
    "    print (\"---------\")\n"
   ],
   "id": "21ec6e308464aaa",
   "outputs": [
    {
     "name": "stdout",
     "output_type": "stream",
     "text": [
      "vicentes Grimezsz Wan na buy Bitcoin 😉😉 tcoZbBJfuVq\n",
      "---------\n",
      "Bitcoin safe word\n",
      "---------\n",
      "Bitcoin 🤣🤣\n",
      "---------\n",
      "Bitcoin How much anime Bitcoin tcoitqRslFNcb\n",
      "---------\n",
      "jkrowling Pretty much although massive currency issuance govt central banks making Bitcoin Internet 👻 money look solid comparison\n",
      "---------\n",
      "jkrowling I still Bitcoins btw\n",
      "---------\n",
      "Bitcoin safe word\n",
      "---------\n",
      "Bitcoin almost bs fiat money\n",
      "---------\n",
      "business Tesla ’ action directly reflective opinion Having Bitcoin simply less dumb form liquidity cash adventurous enough SP company\n",
      "---------\n",
      "business To clear I investor I engineer I ’ even publicly traded stock besides Tesla However fiat currency negative real interest fool ’ look elsewhere Bitcoin almost bs fiat money The key word “ almost ”\n",
      "---------\n",
      "BTC Bitcoin anagram TBCThe Boring Company What coincidence\n",
      "---------\n",
      "You buy Tesla Bitcoin\n",
      "---------\n",
      "Tesla using internal open source software operates Bitcoin nodes directly Bitcoin paid Tesla retained Bitcoin converted fiat currency\n",
      "---------\n",
      "Pay Bitcoin capability available outside US later year\n",
      "---------\n"
     ]
    }
   ],
   "execution_count": 41
  },
  {
   "metadata": {
    "ExecuteTime": {
     "end_time": "2024-05-17T09:35:20.351249Z",
     "start_time": "2024-05-17T09:35:20.155628Z"
    }
   },
   "cell_type": "code",
   "source": [
    "import matplotlib.pyplot as plt\n",
    "words = tweets_bitcoin['tweet'].str.split(expand=True).stack()\n",
    "# declare a np array to store the frequency of each word\n",
    "data = {}\n",
    "\n",
    "for tweet_bitcoin in tweets_bitcoin[\"tweet\"]:\n",
    "    check_visited = set()  # Use a set to keep track of visited words\n",
    "    for word in words:\n",
    "        if word in tweet_bitcoin and word not in check_visited:\n",
    "            data[word] = data.get(word, 0) + 1\n",
    "            check_visited.add(word)\n",
    "            \n",
    "df = pd.DataFrame(list(data.items()), columns=['word', 'word_count'])\n",
    "df = df.sort_values(by =['word_count'], ascending=False)\n",
    "# df = df.iloc[1:]\n",
    "df[:15].plot(kind='bar', x='word', y='word_count', width=0.8)\n",
    "plt.xticks(rotation=80)\n",
    "plt.show()"
   ],
   "id": "2fd7e146e2690712",
   "outputs": [
    {
     "data": {
      "text/plain": [
       "<Figure size 640x480 with 1 Axes>"
      ],
      "image/png": "[encoded data removed]"
     },
     "metadata": {},
     "output_type": "display_data"
    }
   ],
   "execution_count": 81
  },
  {
   "metadata": {},
   "cell_type": "code",
   "source": "",
   "id": "e04ae96980fc7b9f",
   "outputs": [],
   "execution_count": null
  },
  {
   "metadata": {
    "ExecuteTime": {
     "end_time": "2024-05-17T09:09:35.099996Z",
     "start_time": "2024-05-17T09:09:34.932717Z"
    }
   },
   "cell_type": "code",
   "source": [
    "import pandas as pd\n",
    "\n",
    "# Given dictionary\n",
    "data = {'a': 1, 'b': 2, 'c': 3, 'd': 4, 'e': 5}\n",
    "\n",
    "# Convert dictionary to pandas Series\n",
    "series = pd.Series(data)\n",
    "\n",
    "print(series)\n",
    "plt.hist(data, bins=len(words[:30]))"
   ],
   "id": "983a4647e11ec57e",
   "outputs": [
    {
     "name": "stdout",
     "output_type": "stream",
     "text": [
      "a    1\n",
      "b    2\n",
      "c    3\n",
      "d    4\n",
      "e    5\n",
      "dtype: int64\n"
     ]
    },
    {
     "data": {
      "text/plain": [
       "(array([1., 0., 0., 0., 0., 0., 0., 1., 0., 0., 0., 0., 0., 0., 0., 1., 0.,\n",
       "        0., 0., 0., 0., 0., 1., 0., 0., 0., 0., 0., 0., 1.]),\n",
       " array([0.        , 0.13333333, 0.26666667, 0.4       , 0.53333333,\n",
       "        0.66666667, 0.8       , 0.93333333, 1.06666667, 1.2       ,\n",
       "        1.33333333, 1.46666667, 1.6       , 1.73333333, 1.86666667,\n",
       "        2.        , 2.13333333, 2.26666667, 2.4       , 2.53333333,\n",
       "        2.66666667, 2.8       , 2.93333333, 3.06666667, 3.2       ,\n",
       "        3.33333333, 3.46666667, 3.6       , 3.73333333, 3.86666667,\n",
       "        4.        ]),\n",
       " <BarContainer object of 30 artists>)"
      ]
     },
     "execution_count": 46,
     "metadata": {},
     "output_type": "execute_result"
    },
    {
     "data": {
      "text/plain": [
       "<Figure size 640x480 with 1 Axes>"
      ],
      "image/png": "[encoded data removed]"
     },
     "metadata": {},
     "output_type": "display_data"
    }
   ],
   "execution_count": 46
  }
 ],
 "metadata": {
  "kernelspec": {
   "display_name": "Python 3",
   "language": "python",
   "name": "python3"
  },
  "language_info": {
   "codemirror_mode": {
    "name": "ipython",
    "version": 2
   },
   "file_extension": ".py",
   "mimetype": "text/x-python",
   "name": "python",
   "nbconvert_exporter": "python",
   "pygments_lexer": "ipython2",
   "version": "2.7.6"
  }
 },
 "nbformat": 4,
 "nbformat_minor": 5
}
