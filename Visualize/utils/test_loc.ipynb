{
 "cells": [
  {
   "cell_type": "code",
   "id": "initial_id",
   "metadata": {
    "collapsed": true,
    "ExecuteTime": {
     "end_time": "2024-05-19T16:12:29.620746Z",
     "start_time": "2024-05-19T16:12:29.601596Z"
    }
   },
   "source": [
    "import pandas as pd\n",
    "\n",
    "# Creating a sample dataframe\n",
    "data = pd.DataFrame({\n",
    "    'age': [30, 20, 50],\n",
    "    'height': [150, 160, 170],\n",
    "    'weight': [70, 60, 65]\n",
    "}, index=['Alice', 'Bob', 'Charlie'])\n",
    "print (data)\n",
    "# Using loc to select a row by label\n",
    "print(data.loc['Alice'])\n",
    "\n",
    "# Using loc to select a column by label\n",
    "print(data.loc[:, 'height'])\n",
    "\n",
    "# Using loc to select a specific cell by row and column labels\n",
    "print(data.loc['Bob', 'weight'])"
   ],
   "outputs": [
    {
     "name": "stdout",
     "output_type": "stream",
     "text": [
      "         age  height  weight\n",
      "Alice     30     150      70\n",
      "Bob       20     160      60\n",
      "Charlie   50     170      65\n",
      "age        30\n",
      "height    150\n",
      "weight     70\n",
      "Name: Alice, dtype: int64\n",
      "Alice      150\n",
      "Bob        160\n",
      "Charlie    170\n",
      "Name: height, dtype: int64\n",
      "60\n"
     ]
    }
   ],
   "execution_count": 2
  }
 ],
 "metadata": {
  "kernelspec": {
   "display_name": "Python 3",
   "language": "python",
   "name": "python3"
  },
  "language_info": {
   "codemirror_mode": {
    "name": "ipython",
    "version": 2
   },
   "file_extension": ".py",
   "mimetype": "text/x-python",
   "name": "python",
   "nbconvert_exporter": "python",
   "pygments_lexer": "ipython2",
   "version": "2.7.6"
  }
 },
 "nbformat": 4,
 "nbformat_minor": 5
}
